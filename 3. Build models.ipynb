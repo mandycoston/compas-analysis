{
 "cells": [
  {
   "cell_type": "markdown",
   "metadata": {},
   "source": [
    "In this notebook we will train several classifiers as models to predict recidivism. We will analyze how these classifiers perform."
   ]
  },
  {
   "cell_type": "code",
   "execution_count": 188,
   "metadata": {},
   "outputs": [],
   "source": [
    "import numpy as np\n",
    "import pandas as pd\n",
    "from sklearn.model_selection import train_test_split\n",
    "from sklearn.linear_model import LogisticRegression\n",
    "import matplotlib.pyplot as plt\n",
    "%matplotlib inline "
   ]
  },
  {
   "cell_type": "code",
   "execution_count": 45,
   "metadata": {},
   "outputs": [],
   "source": [
    "X = np.loadtxt(\"X.csv\")\n",
    "y = np.loadtxt(\"y.csv\")\n",
    "X_pandas = pd.read_csv(\"X_pandas.csv\")"
   ]
  },
  {
   "cell_type": "markdown",
   "metadata": {},
   "source": [
    "First we will partition our data into three sets: training, evaluation, and holdout. We will use the training set to build our models. We will use the evaluation set to evaluate how well our models perform. The holdout set is reserved for the end of the project; once we have tinkered with the models, we will see how well they perform on a fresh holdout set. Final conclusions should be based on analysis on the holdout set. "
   ]
  },
  {
   "cell_type": "code",
   "execution_count": 13,
   "metadata": {
    "collapsed": true
   },
   "outputs": [],
   "source": [
    "#set random seed for reproducibility\n",
    "seed = 20\n",
    "X_train, X_test, y_train, y_test = train_test_split(X, y, test_size=0.4, random_state=seed)\n",
    "X_eval, X_hold, y_eval, y_hold = train_test_split(X_test, y_test, test_size=0.45)"
   ]
  },
  {
   "cell_type": "markdown",
   "metadata": {},
   "source": [
    "Let's first train a logistic regression classifier."
   ]
  },
  {
   "cell_type": "code",
   "execution_count": 36,
   "metadata": {},
   "outputs": [
    {
     "data": {
      "text/plain": [
       "LogisticRegression(C=100000, class_weight=None, dual=False,\n",
       "          fit_intercept=True, intercept_scaling=1, max_iter=10000,\n",
       "          multi_class='ovr', n_jobs=1, penalty='l2', random_state=None,\n",
       "          solver='liblinear', tol=0.0001, verbose=0, warm_start=False)"
      ]
     },
     "execution_count": 36,
     "metadata": {},
     "output_type": "execute_result"
    }
   ],
   "source": [
    "logreg = LogisticRegression(C=100000, max_iter=10000)\n",
    "logreg.fit(X_train,y_train)"
   ]
  },
  {
   "cell_type": "code",
   "execution_count": 42,
   "metadata": {},
   "outputs": [
    {
     "name": "stdout",
     "output_type": "stream",
     "text": [
      "The accuracy is 0.6914\n"
     ]
    }
   ],
   "source": [
    "print(\"The accuracy is {0:.4f}\".format(logreg.score(X_test, y_test)))"
   ]
  },
  {
   "cell_type": "markdown",
   "metadata": {},
   "source": [
    "Let's create a vector of predicted labels. Each predicted label is either 0 (if the algorithm thinks the person will not recommit a crime) or 1 (if the algorithm thinks the person will recommit a crime). We can imagine a decision-making process where people who get a predicted label = 1 are denied pre-trial release and peopple who get a predicted label = 0 are released pre-trial."
   ]
  },
  {
   "cell_type": "code",
   "execution_count": 43,
   "metadata": {
    "collapsed": true
   },
   "outputs": [],
   "source": [
    "y_pred = logreg.predict(X_test)"
   ]
  },
  {
   "cell_type": "markdown",
   "metadata": {},
   "source": [
    "We are interested in analyzing how are algorithms assigns decision based on attributes like race or gender since we want to analyze whether the algorithm is unfair.  \n",
    "\n",
    "Create a mapping to find the column location of each variable. This is needed since NumPy doesn't maintain the column labels as strings (only as numbers). "
   ]
  },
  {
   "cell_type": "code",
   "execution_count": null,
   "metadata": {
    "collapsed": true
   },
   "outputs": [],
   "source": [
    "feat_map = list(X_pandas.columns)[1:]"
   ]
  },
  {
   "cell_type": "markdown",
   "metadata": {},
   "source": [
    "Create boolean vectors indicating membership in each race or gender group. \n",
    "\n",
    "**TODO** Finish for race_Caucasian, race_Hispanic, and race_Other."
   ]
  },
  {
   "cell_type": "code",
   "execution_count": 95,
   "metadata": {},
   "outputs": [],
   "source": [
    "males = X_test[:,feat_map.index('sex_Male')] == 1\n",
    "afr_am = X_test[:,feat_map.index('race_African-American')] == 1"
   ]
  },
  {
   "cell_type": "markdown",
   "metadata": {},
   "source": [
    "# Fairness Metrics\n",
    "## Demographic parity\n",
    "\n",
    "Demographic parity is a fairness concept that requires that the probability of an outcome be the same for two demographic groups. As an example, consider an algorithm determining loan approvals and consider that we are concerned about gender discrimination. The algorithm would not satisfy demographic parity if the probability of loan approval for women is 0.3 but the probability of loan approval for men is 0.8. \n",
    "\n",
    "Does our logistic regression classifier satisfy demographic parity with respect to race or gender? \n",
    "**TODO** Compute the means for the other race groups and gender groups. Compare the differences. How large of a difference do you think we should accept under the notion of demographic parity?"
   ]
  },
  {
   "cell_type": "code",
   "execution_count": 96,
   "metadata": {},
   "outputs": [
    {
     "name": "stdout",
     "output_type": "stream",
     "text": [
      "Logistic regression denies pre-trial release to 51.6% of African-Americans\n"
     ]
    }
   ],
   "source": [
    "afr_am_mean = y_pred[afr_am].mean()\n",
    "print(\"Logistic regression denies pre-trial release to {0:.1f}% of African-Americans\".format(afr_am_mean*100))"
   ]
  },
  {
   "cell_type": "markdown",
   "metadata": {},
   "source": [
    "## Equalized Odds / Equal False Positive and True Positive Rates\n",
    "\n",
    "One might argue that it is fair that women are released more often than men if in fact women are less likely to recommit a crime. Then, one could take into account the *true* label in our fairness metrics. We could compare the probability that a woman who did not recidivate would be detained to the probability that a man who did not recidivate would be detained. These quantities are known as the false positive rates.\n",
    "\n",
    "**TODO** Compute the false positive rate for men and compare to the false positive rate for women."
   ]
  },
  {
   "cell_type": "code",
   "execution_count": 116,
   "metadata": {},
   "outputs": [],
   "source": [
    "fem_fpr = y_pred[(X_test[:,feat_map.index('sex_Female')] == 1) & (y_test==0)].mean()"
   ]
  },
  {
   "cell_type": "markdown",
   "metadata": {},
   "source": [
    "We should also consider the true positive rate: the probability that a person who will recidivate would be detained. \n",
    "\n",
    "**TODO** Compute the false negative rates for men and women. "
   ]
  },
  {
   "cell_type": "markdown",
   "metadata": {},
   "source": [
    "**TODO** Repeat the equalized odds analysis for race. Does our logistic regression classifier satisfy equalized odds?"
   ]
  },
  {
   "cell_type": "markdown",
   "metadata": {},
   "source": [
    "## Calibration\n",
    "\n",
    "We will consider another metric that is a function of the predicted probabilities (as opposed to the predicted labels as we have considered so far). Our model is well-calibrated if the average recidivism rate for a group of people who get a predicted probability of x% is x%. We can plot a calibration curve to analyze this. The predicted probabilities range from 0 to 1, and we can split this up into ten bins: 0 to 0.1, 0.1 to 0.2, 0.2 to 0.3, and so on. On the x-axis, we plot the average of the bin (0.05, 0.15, etc) and on the y-axis we plot the average observed outcome for people who received a predicted probability in that bin.\n",
    "\n",
    "Note the people sometimes use *score* to refer to predicted probability.\n"
   ]
  },
  {
   "cell_type": "markdown",
   "metadata": {},
   "source": [
    "Get vector of scores"
   ]
  },
  {
   "cell_type": "code",
   "execution_count": 156,
   "metadata": {
    "collapsed": true
   },
   "outputs": [],
   "source": [
    "y_score = logreg.predict_proba(X_test)[:,1]"
   ]
  },
  {
   "cell_type": "markdown",
   "metadata": {},
   "source": [
    "Assign each row to a bin"
   ]
  },
  {
   "cell_type": "code",
   "execution_count": 176,
   "metadata": {},
   "outputs": [],
   "source": [
    "y_score_bins = np.where(y_score <= 0.1, 1, \\\n",
    "                        np.where(y_score <= 0.2, 2,\\\n",
    "                                 np.where(y_score <= 0.3, 3, \\\n",
    "                                          np.where(y_score <= 0.4, 4, \\\n",
    "                                                   np.where(y_score <= 0.5, 5, \\\n",
    "                                                            np.where(y_score <= 0.6, 6, \\\n",
    "                                                                    np.where(y_score <= 0.7, 7, \\\n",
    "                                                                              np.where(y_score <= 0.8, 8, \\\n",
    "                                                                                       np.where(y_score <= 0.9, 9, 10)))))))))"
   ]
  },
  {
   "cell_type": "markdown",
   "metadata": {},
   "source": [
    "Compute average label outcome for each bin"
   ]
  },
  {
   "cell_type": "code",
   "execution_count": 186,
   "metadata": {},
   "outputs": [],
   "source": [
    "avg_outcome = []\n",
    "for b in range(1,11):\n",
    "    avg = y_test[y_score_bins == b].mean()\n",
    "    avg_outcome.append(avg)\n",
    "    "
   ]
  },
  {
   "cell_type": "code",
   "execution_count": 137,
   "metadata": {},
   "outputs": [],
   "source": [
    "avg_score = [x * 0.01 for x in range(5, 100, 10)]"
   ]
  },
  {
   "cell_type": "markdown",
   "metadata": {},
   "source": [
    "Plot calibration curve: avg_score against avg_outcome. I plot a solid reference line. A better calibration model will more closely track the reference y=x line. **TODO** Why is the y=x line our reference? How well is the model calibrated? Why do you think the first point is the farthest from the reference line?"
   ]
  },
  {
   "cell_type": "code",
   "execution_count": 190,
   "metadata": {},
   "outputs": [
    {
     "data": {
      "text/plain": [
       "[<matplotlib.lines.Line2D at 0x12e37f4a8>]"
      ]
     },
     "execution_count": 190,
     "metadata": {},
     "output_type": "execute_result"
    },
    {
     "data": {
      "image/png": "[encoded data removed]",
      "text/plain": [
       "<matplotlib.figure.Figure at 0x12e37f438>"
      ]
     },
     "metadata": {},
     "output_type": "display_data"
    }
   ],
   "source": [
    "plt.scatter(avg_score, avg_outcome)\n",
    "plt.plot([0,1], [0,1])"
   ]
  },
  {
   "cell_type": "markdown",
   "metadata": {},
   "source": [
    "**TODO** Compute calibration curve for ou"
   ]
  }
 ],
 "metadata": {
  "kernelspec": {
   "display_name": "Python 3",
   "language": "python",
   "name": "python3"
  },
  "language_info": {
   "codemirror_mode": {
    "name": "ipython",
    "version": 3
   },
   "file_extension": ".py",
   "mimetype": "text/x-python",
   "name": "python",
   "nbconvert_exporter": "python",
   "pygments_lexer": "ipython3",
   "version": "3.6.1"
  }
 },
 "nbformat": 4,
 "nbformat_minor": 2
}
