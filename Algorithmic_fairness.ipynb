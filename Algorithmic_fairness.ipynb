{
 "cells": [
  {
   "cell_type": "markdown",
   "metadata": {},
   "source": [
    "An important part of building AI systems is taking the time to understand your data and formatting it for the algorithms. This is often called *preprocessing*. In notebook 1, we began to analyze and understand the data. In this notebook we will do so in a more methodical way."
   ]
  },
  {
   "cell_type": "code",
   "execution_count": 84,
   "metadata": {
    "collapsed": true
   },
   "outputs": [],
   "source": [
    "import pandas as pd\n",
    "import numpy as np"
   ]
  },
  {
   "cell_type": "code",
   "execution_count": 2,
   "metadata": {
    "collapsed": true
   },
   "outputs": [],
   "source": [
    "dat = pd.read_csv(\"./compas-scores-two-years.csv\", index_col=0)\n",
    "n, p = dat.shape"
   ]
  },
  {
   "cell_type": "markdown",
   "metadata": {},
   "source": [
    "Preprocessing steps may involve 1) dropping rows that do not meet our inclusion criteria, 2) dropping columns that are not useful for our task, or 3) changing the representation of columns so that our algorithms can handle the data. Let's first consider (1). We should be suspicious of cases where the number of days between arrest date and charge date, *days_b_screening_arrest*, is more than 30. How many of these cases are there?"
   ]
  },
  {
   "cell_type": "code",
   "execution_count": 14,
   "metadata": {},
   "outputs": [
    {
     "data": {
      "text/plain": [
       "735"
      ]
     },
     "execution_count": 14,
     "metadata": {},
     "output_type": "execute_result"
    }
   ],
   "source": [
    "dat[(dat.days_b_screening_arrest < -30) | (dat.days_b_screening_arrest > 30)].shape[0]"
   ]
  },
  {
   "cell_type": "markdown",
   "metadata": {},
   "source": [
    "There is likely a data quality issue for most of these cases. Therefore we will drop these rows"
   ]
  },
  {
   "cell_type": "code",
   "execution_count": 15,
   "metadata": {
    "collapsed": true
   },
   "outputs": [],
   "source": [
    "dat = dat[(dat.days_b_screening_arrest >= -30) & (dat.days_b_screening_arrest <= 30)]"
   ]
  },
  {
   "cell_type": "code",
   "execution_count": 23,
   "metadata": {},
   "outputs": [
    {
     "data": {
      "text/plain": [
       "(6172, 52)"
      ]
     },
     "execution_count": 23,
     "metadata": {},
     "output_type": "execute_result"
    }
   ],
   "source": [
    "dat.shape"
   ]
  },
  {
   "cell_type": "markdown",
   "metadata": {},
   "source": [
    "Missing data is a common problem when using real-world data. How common is missing data for COMPASS?"
   ]
  },
  {
   "cell_type": "code",
   "execution_count": 47,
   "metadata": {},
   "outputs": [
    {
     "data": {
      "text/plain": [
       "name                          0\n",
       "first                         0\n",
       "last                          0\n",
       "compas_screening_date         0\n",
       "sex                           0\n",
       "dob                           0\n",
       "age                           0\n",
       "age_cat                       0\n",
       "race                          0\n",
       "juv_fel_count                 0\n",
       "decile_score                  0\n",
       "juv_misd_count                0\n",
       "juv_other_count               0\n",
       "priors_count                  0\n",
       "days_b_screening_arrest       0\n",
       "c_jail_in                     0\n",
       "c_jail_out                    0\n",
       "c_case_number                 0\n",
       "c_offense_date              784\n",
       "c_arrest_date              5388\n",
       "c_days_from_compas            0\n",
       "c_charge_degree               0\n",
       "c_charge_desc                 5\n",
       "is_recid                      0\n",
       "r_case_number              3182\n",
       "r_charge_degree            3182\n",
       "r_days_from_arrest         4175\n",
       "r_offense_date             3182\n",
       "r_charge_desc              3228\n",
       "r_jail_in                  4175\n",
       "r_jail_out                 4175\n",
       "violent_recid              6172\n",
       "is_violent_recid              0\n",
       "vr_case_number             5480\n",
       "vr_charge_degree           5480\n",
       "vr_offense_date            5480\n",
       "vr_charge_desc             5480\n",
       "type_of_assessment            0\n",
       "decile_score.1                0\n",
       "score_text                    0\n",
       "screening_date                0\n",
       "v_type_of_assessment          0\n",
       "v_decile_score                0\n",
       "v_score_text                  0\n",
       "v_screening_date              0\n",
       "in_custody                    0\n",
       "out_custody                   0\n",
       "priors_count.1                0\n",
       "start                         0\n",
       "end                           0\n",
       "event                         0\n",
       "two_year_recid                0\n",
       "dtype: int64"
      ]
     },
     "execution_count": 47,
     "metadata": {},
     "output_type": "execute_result"
    }
   ],
   "source": [
    "dat.isnull().sum()"
   ]
  },
  {
   "cell_type": "markdown",
   "metadata": {},
   "source": [
    "This show that all rows have age but 3182 rows are missing r_charge_degree. Sometimes one would drop rows with missing values or impute (fill them in) by using the column average. Before we try either approach, let's first eliminate columns that are not useful as predictors in our model "
   ]
  },
  {
   "cell_type": "markdown",
   "metadata": {},
   "source": [
    "Let's consider (2): which columns do we want to include as predictors in our model? Some features, like name or arrest date, are not useful for our task; we should drop these. However, we may later be interested in using these columns for visualizations or analyses: for instance we could ask how risk scores have changed over time as a function of COMPAS screening date. So let's leave *dat* as a dataframe that contains all our information and we'll create a new variable *X* that has the columns we want to use in our model.\n",
    "\n",
    "The columns that may be informative in predicting who will recommit a crime are the following columns:\n",
    "- Severity of the current crime: *c_charge_degree*\n",
    "- history of crime: *priors_count*, *juv_fel_count*, *juv_misd_count*, *juv_other_count*\n",
    "- demographic information: *age*, *race*, *sex*, "
   ]
  },
  {
   "cell_type": "code",
   "execution_count": 118,
   "metadata": {
    "collapsed": true
   },
   "outputs": [],
   "source": [
    "X = dat[['c_charge_degree', 'priors_count', 'juv_fel_count', 'juv_misd_count', 'juv_other_count', 'age', 'race', 'sex']]"
   ]
  },
  {
   "cell_type": "markdown",
   "metadata": {},
   "source": [
    "**TODO** Create the outcome variable Y."
   ]
  },
  {
   "cell_type": "code",
   "execution_count": 35,
   "metadata": {
    "collapsed": true
   },
   "outputs": [],
   "source": []
  },
  {
   "cell_type": "markdown",
   "metadata": {},
   "source": [
    "**TODO** Now let's check again whether any of our rows have missing values. <span style=\"color:red\">ADD</span>"
   ]
  },
  {
   "cell_type": "code",
   "execution_count": null,
   "metadata": {
    "collapsed": true
   },
   "outputs": [],
   "source": []
  },
  {
   "cell_type": "markdown",
   "metadata": {},
   "source": [
    "Now let's consider (3): the representation of each column. What is the type of each variable?"
   ]
  },
  {
   "cell_type": "code",
   "execution_count": 119,
   "metadata": {},
   "outputs": [
    {
     "data": {
      "text/plain": [
       "c_charge_degree    object\n",
       "priors_count        int64\n",
       "juv_fel_count       int64\n",
       "juv_misd_count      int64\n",
       "juv_other_count     int64\n",
       "age                 int64\n",
       "race               object\n",
       "sex                object\n",
       "dtype: object"
      ]
     },
     "execution_count": 119,
     "metadata": {},
     "output_type": "execute_result"
    }
   ],
   "source": [
    "X.dtypes"
   ]
  },
  {
   "cell_type": "markdown",
   "metadata": {},
   "source": [
    "*object* is the pandas data type (dtype) for *string* which is a string of text. Our machine learning algorithms however expect all variables to be numeric. We will need to convert the *object* dtypes to numeric (like *int64*). The most straightforward way to do this is to convert each column to multipe *dummy* columns. \n",
    "\n",
    "**TODO** Let's see how many values each object column has and how many occurences of each value there are in the data."
   ]
  },
  {
   "cell_type": "code",
   "execution_count": 70,
   "metadata": {},
   "outputs": [
    {
     "data": {
      "text/plain": [
       "African-American    3175\n",
       "Caucasian           2103\n",
       "Hispanic             509\n",
       "Other                343\n",
       "Asian                 31\n",
       "Native American       11\n",
       "Name: race, dtype: int64"
      ]
     },
     "execution_count": 70,
     "metadata": {},
     "output_type": "execute_result"
    }
   ],
   "source": [
    "X.race.value_counts()"
   ]
  },
  {
   "cell_type": "code",
   "execution_count": 120,
   "metadata": {
    "collapsed": true
   },
   "outputs": [],
   "source": [
    "X = pd.get_dummies(X)"
   ]
  },
  {
   "cell_type": "markdown",
   "metadata": {},
   "source": [
    "It may cause problems to have a column with mostly zeros, so to avoid that, let's group 'Asian' and 'Native American' into 'Other'."
   ]
  },
  {
   "cell_type": "code",
   "execution_count": 121,
   "metadata": {
    "collapsed": true
   },
   "outputs": [],
   "source": [
    "X['race_Other'] = X['race_Other'] + X['race_Asian'] + X['race_Native American']\n",
    "X = X.drop(['race_Asian', 'race_Native American'], axis=1)"
   ]
  },
  {
   "cell_type": "markdown",
   "metadata": {},
   "source": [
    "Save this pandas dataframe to a CSV for future use. "
   ]
  },
  {
   "cell_type": "code",
   "execution_count": 122,
   "metadata": {
    "collapsed": true
   },
   "outputs": [],
   "source": [
    "X.to_csv(\"X_pandas.csv\")"
   ]
  },
  {
   "cell_type": "markdown",
   "metadata": {},
   "source": [
    "Convert it to a numpy matrix, which is required for the algorithms. Save dat, X, Y to csv for future use."
   ]
  },
  {
   "cell_type": "code",
   "execution_count": 94,
   "metadata": {
    "collapsed": true
   },
   "outputs": [],
   "source": [
    "X = X.values\n",
    "Y = Y.values"
   ]
  },
  {
   "cell_type": "code",
   "execution_count": 114,
   "metadata": {
    "collapsed": true
   },
   "outputs": [],
   "source": [
    "np.savetxt('X.csv', X)\n",
    "np.savetxt('y.csv', Y)\n",
    "dat.to_csv(\"dat.csv\")"
   ]
  },
  {
   "cell_type": "code",
   "execution_count": 111,
   "metadata": {},
   "outputs": [
    {
     "data": {
      "text/plain": [
       "dtype('int64')"
      ]
     },
     "execution_count": 111,
     "metadata": {},
     "output_type": "execute_result"
    }
   ],
   "source": [
    "X.dtype"
   ]
  },
  {
   "cell_type": "code",
   "execution_count": null,
   "metadata": {
    "collapsed": true
   },
   "outputs": [],
   "source": []
  },
  {
   "cell_type": "markdown",
   "metadata": {},
   "source": [
    "In this notebook we will train a classifier to predict recidivism. We will analyze how these classifiers perform in terms of accuracy and fairness metrics."
   ]
  },
  {
   "cell_type": "code",
   "execution_count": 12,
   "metadata": {
    "collapsed": true
   },
   "outputs": [],
   "source": [
    "import pickle"
   ]
  },
  {
   "cell_type": "code",
   "execution_count": 1,
   "metadata": {},
   "outputs": [
    {
     "ename": "ModuleNotFoundError",
     "evalue": "No module named 'matplotlib'",
     "output_type": "error",
     "traceback": [
      "\u001b[0;31m---------------------------------------------------------------------------\u001b[0m",
      "\u001b[0;31mModuleNotFoundError\u001b[0m                       Traceback (most recent call last)",
      "\u001b[0;32m<ipython-input-1-b6d353ab7df2>\u001b[0m in \u001b[0;36m<module>\u001b[0;34m\u001b[0m\n\u001b[1;32m      4\u001b[0m \u001b[0;32mfrom\u001b[0m \u001b[0msklearn\u001b[0m\u001b[0;34m.\u001b[0m\u001b[0mmodel_selection\u001b[0m \u001b[0;32mimport\u001b[0m \u001b[0mtrain_test_split\u001b[0m\u001b[0;34m\u001b[0m\u001b[0;34m\u001b[0m\u001b[0m\n\u001b[1;32m      5\u001b[0m \u001b[0;32mfrom\u001b[0m \u001b[0msklearn\u001b[0m\u001b[0;34m.\u001b[0m\u001b[0mlinear_model\u001b[0m \u001b[0;32mimport\u001b[0m \u001b[0mLogisticRegression\u001b[0m\u001b[0;34m\u001b[0m\u001b[0;34m\u001b[0m\u001b[0m\n\u001b[0;32m----> 6\u001b[0;31m \u001b[0;32mimport\u001b[0m \u001b[0mmatplotlib\u001b[0m\u001b[0;34m.\u001b[0m\u001b[0mpyplot\u001b[0m \u001b[0;32mas\u001b[0m \u001b[0mplt\u001b[0m\u001b[0;34m\u001b[0m\u001b[0;34m\u001b[0m\u001b[0m\n\u001b[0m\u001b[1;32m      7\u001b[0m \u001b[0mget_ipython\u001b[0m\u001b[0;34m(\u001b[0m\u001b[0;34m)\u001b[0m\u001b[0;34m.\u001b[0m\u001b[0mrun_line_magic\u001b[0m\u001b[0;34m(\u001b[0m\u001b[0;34m'matplotlib'\u001b[0m\u001b[0;34m,\u001b[0m \u001b[0;34m'inline '\u001b[0m\u001b[0;34m)\u001b[0m\u001b[0;34m\u001b[0m\u001b[0;34m\u001b[0m\u001b[0m\n",
      "\u001b[0;31mModuleNotFoundError\u001b[0m: No module named 'matplotlib'"
     ]
    }
   ],
   "source": [
    "import numpy as np\n",
    "import pandas as pd\n",
    "import scipy\n",
    "from sklearn.model_selection import train_test_split\n",
    "from sklearn.linear_model import LogisticRegression\n",
    "import matplotlib.pyplot as plt\n",
    "%matplotlib inline "
   ]
  },
  {
   "cell_type": "code",
   "execution_count": 2,
   "metadata": {
    "collapsed": true
   },
   "outputs": [],
   "source": [
    "X = np.loadtxt(\"X.csv\")\n",
    "y = np.loadtxt(\"y.csv\")\n",
    "X_pandas = pd.read_csv(\"X_pandas.csv\")"
   ]
  },
  {
   "cell_type": "raw",
   "metadata": {},
   "source": [
    "First we will partition our data into three sets: training and test sets.  We will use the training set to build our models. We will use the test set to evaluate how well our models perform. "
   ]
  },
  {
   "cell_type": "code",
   "execution_count": 3,
   "metadata": {
    "collapsed": true
   },
   "outputs": [],
   "source": [
    "#set random seed for reproducibility\n",
    "seed = 20\n",
    "X_train, X_test, y_train, y_test = train_test_split(X, y, test_size=0.4, random_state=seed)"
   ]
  },
  {
   "cell_type": "markdown",
   "metadata": {},
   "source": [
    "Let's first train a logistic regression classifier."
   ]
  },
  {
   "cell_type": "code",
   "execution_count": 17,
   "metadata": {},
   "outputs": [
    {
     "data": {
      "text/plain": [
       "LogisticRegression(C=100000, class_weight=None, dual=False, fit_intercept=True,\n",
       "                   intercept_scaling=1, l1_ratio=None, max_iter=10000,\n",
       "                   multi_class='warn', n_jobs=None, penalty='l2',\n",
       "                   random_state=None, solver='lbfgs', tol=0.0001, verbose=0,\n",
       "                   warm_start=False)"
      ]
     },
     "execution_count": 17,
     "metadata": {},
     "output_type": "execute_result"
    }
   ],
   "source": [
    "logreg = LogisticRegression(C=100000, max_iter=10000, solver = \"lbfgs\")\n",
    "logreg.fit(X_train,y_train)"
   ]
  },
  {
   "cell_type": "code",
   "execution_count": 14,
   "metadata": {},
   "outputs": [
    {
     "name": "stdout",
     "output_type": "stream",
     "text": [
      "The accuracy is 0.6914\n"
     ]
    }
   ],
   "source": [
    "print(\"The accuracy is {0:.4f}\".format(logreg.score(X_test, y_test)))"
   ]
  },
  {
   "cell_type": "markdown",
   "metadata": {},
   "source": [
    "Save the model for future use using Python's object serialization package *pickle*. "
   ]
  },
  {
   "cell_type": "code",
   "execution_count": 15,
   "metadata": {},
   "outputs": [],
   "source": [
    "pickle.dump(logreg, open(\"logreg.p\", \"wb\"))"
   ]
  },
  {
   "cell_type": "markdown",
   "metadata": {},
   "source": [
    "Let's create a vector of predicted labels. Each predicted label is either 0 (if the algorithm thinks the person will not recommit a crime) or 1 (if the algorithm thinks the person will recommit a crime). We can imagine a decision-making process where people who get a predicted label = 1 are denied pre-trial release and peopple who get a predicted label = 0 are released pre-trial."
   ]
  },
  {
   "cell_type": "code",
   "execution_count": 6,
   "metadata": {
    "collapsed": true
   },
   "outputs": [],
   "source": [
    "y_pred = logreg.predict(X_test)"
   ]
  },
  {
   "cell_type": "code",
   "execution_count": 7,
   "metadata": {
    "collapsed": true
   },
   "outputs": [],
   "source": [
    "y_pred_train = logreg.predict(X_train)"
   ]
  },
  {
   "cell_type": "markdown",
   "metadata": {},
   "source": [
    "Let's save two files: 1) for training data and 2) for test data. Each file should contain the features (X), true label, and predictions. "
   ]
  },
  {
   "cell_type": "code",
   "execution_count": 19,
   "metadata": {
    "collapsed": true
   },
   "outputs": [],
   "source": [
    "train = np.hstack((X_train, np.expand_dims(y_train, axis=1), np.expand_dims(y_pred_train, axis=1)))\n",
    "test = np.hstack((X_test, np.expand_dims(y_test, axis=1), np.expand_dims(y_pred, axis=1)))\n",
    "np.savetxt('train.csv', train)\n",
    "np.savetxt('test.csv', test)"
   ]
  },
  {
   "cell_type": "markdown",
   "metadata": {},
   "source": [
    "We are interested in analyzing how are algorithms assigns decision based on attributes like race or gender since we want to analyze whether the algorithm is unfair.  \n",
    "\n",
    "Create a mapping to find the column location of each variable. This is needed since NumPy doesn't maintain the column labels as strings (only as numbers). "
   ]
  },
  {
   "cell_type": "code",
   "execution_count": 8,
   "metadata": {
    "collapsed": true
   },
   "outputs": [],
   "source": [
    "feat_map = list(X_pandas.columns)[1:]"
   ]
  },
  {
   "cell_type": "markdown",
   "metadata": {},
   "source": [
    "Create boolean vectors indicating membership in each race or gender group. \n",
    "\n",
    "**TODO** Finish for race_Caucasian, race_Hispanic, and race_Other."
   ]
  },
  {
   "cell_type": "code",
   "execution_count": 9,
   "metadata": {
    "collapsed": true
   },
   "outputs": [],
   "source": [
    "males = X_test[:,feat_map.index('sex_Male')] == 1\n",
    "afr_am = X_test[:,feat_map.index('race_African-American')] == 1"
   ]
  },
  {
   "cell_type": "markdown",
   "metadata": {},
   "source": [
    "# Discrimination\n",
    "\n",
    "If we are going to let an algorithm make an important decision like who gets pre-trial release, we want to make sure the algorithm is accurate and also free from discrimination. But what does discrimination mean especially in the case of an algorithm? How might you define discrimination? Can you give some examples?"
   ]
  },
  {
   "cell_type": "markdown",
   "metadata": {},
   "source": []
  },
  {
   "cell_type": "markdown",
   "metadata": {},
   "source": [
    "Discrimination is typically tied to a *protected attribute* such as race or gender i.e. we argue that there is discrimination on the basis of the protected attribbute. \n",
    "\n",
    "Two common definitions of discrimination are **disparate impact** and **disparate treatment**. Disparate *treatment* refers to a process that treats individuals differently based on a demographic attribute. For instance, if a school had a policy that admitted men with a GPA of 3.0 or higher but only admitted women with a GPA of 3.5 or higher, this would be disparate treatment. This explicit notion of discrimination is commonly what people think of as discrimination.\n",
    "\n",
    "But there's another form of discrimination. Disparate *impact* refers to implicit discrimination, where a seemingly neutral policy leads to disparate outcomes in demographic groups. For instance, if a school had a policy that admitted football players with a GPA of 2.5 or higher but only admitted non-football players with a GPA of 3.5 or higher, then this would be disparate impact. The policy doesn't explicitly use the protected attribute gender, but the policy has the effect of allowing in more men with lower GPA's than women.\n",
    "\n",
    "What would disparate impact and disparate treatment look like in the case of our pre-trial release algorithm? Can you give examples of policies that would be described as having disparate impact or disparate treatment? Do you think one is more problematic than the other?"
   ]
  },
  {
   "cell_type": "markdown",
   "metadata": {},
   "source": []
  },
  {
   "cell_type": "markdown",
   "metadata": {},
   "source": [
    "# Fairness\n",
    "\n",
    "Many people argue that a process is fair when it is free of discrimination, and above we considered some definitions of discrimination. We can also directly define fairness. \n",
    "\n",
    "## Demographic parity\n",
    "\n",
    "Demographic parity is a fairness concept that requires that the probability of an outcome be the same for two demographic groups. As an example, consider an algorithm determining loan approvals and consider that we are concerned about gender discrimination. The algorithm would not satisfy demographic parity if the probability of loan approval for women is 0.3 but the probability of loan approval for men is 0.8. \n",
    "\n",
    "Is it possible to have demographic parity and disparate impact? What about demographic parity and disparate treatment?"
   ]
  },
  {
   "cell_type": "markdown",
   "metadata": {},
   "source": []
  },
  {
   "cell_type": "markdown",
   "metadata": {},
   "source": [
    "Does our logistic regression classifier satisfy demographic parity with respect to race or gender? \n",
    "**TODO** Compute the means for the other race groups and gender groups. Compare the differences. How large of a difference do you think we should accept under the notion of demographic parity?"
   ]
  },
  {
   "cell_type": "code",
   "execution_count": 10,
   "metadata": {},
   "outputs": [
    {
     "name": "stdout",
     "output_type": "stream",
     "text": [
      "Logistic regression denies pre-trial release to 51.6% of African-Americans\n"
     ]
    }
   ],
   "source": [
    "afr_am_mean = y_pred[afr_am].mean()\n",
    "print(\"Logistic regression denies pre-trial release to {0:.1f}% of African-Americans\".format(afr_am_mean*100))"
   ]
  },
  {
   "cell_type": "markdown",
   "metadata": {},
   "source": [
    "## Equalized Odds / Equal False Positive and True Positive Rates\n",
    "\n",
    "One might argue that it is fair that women are released more often than men if in fact women are less likely to recommit a crime. Then, one could take into account the *true* label in our fairness metrics. We could compare the probability that a woman who did not recidivate would be detained to the probability that a man who did not recidivate would be detained. These quantities are known as the false positive rates.\n",
    "\n",
    "**TODO** Compute the false positive rate for men and compare to the false positive rate for women."
   ]
  },
  {
   "cell_type": "code",
   "execution_count": 11,
   "metadata": {
    "collapsed": true
   },
   "outputs": [],
   "source": [
    "fem_fpr = y_pred[(X_test[:,feat_map.index('sex_Female')] == 1) & (y_test==0)].mean()"
   ]
  },
  {
   "cell_type": "markdown",
   "metadata": {},
   "source": [
    "We should also consider the true positive rate: the probability that a person who will recidivate would be detained. \n",
    "\n",
    "**TODO** Compute the false negative rates for men and women. "
   ]
  },
  {
   "cell_type": "markdown",
   "metadata": {},
   "source": [
    "**Equalized odds** The fairness goal of equalized odds requires that the true positive and false positive rates be the same for our protected attributes. Why do (or don't) you think this makes sense as a notion of fairness?"
   ]
  },
  {
   "cell_type": "markdown",
   "metadata": {},
   "source": [
    "**TODO** Repeat the equalized odds analysis for race. Does our logistic regression classifier satisfy equalized odds?"
   ]
  },
  {
   "cell_type": "markdown",
   "metadata": {},
   "source": [
    "## Calibration\n",
    "\n",
    "We will consider another metric that is a function of the predicted probabilities (as opposed to the predicted labels as we have considered so far). Our model is well-calibrated if the average recidivism rate for a group of people who get a predicted probability of x% is x%. We can plot a calibration curve to analyze this. The predicted probabilities range from 0 to 1, and we can split this up into ten bins: 0 to 0.1, 0.1 to 0.2, 0.2 to 0.3, and so on. On the x-axis, we plot the average of the bin (0.05, 0.15, etc) and on the y-axis we plot the average observed outcome for people who received a predicted probability in that bin.\n",
    "\n",
    "Note the people sometimes use *score* to refer to predicted probability.\n"
   ]
  },
  {
   "cell_type": "markdown",
   "metadata": {},
   "source": [
    "Get vector of scores"
   ]
  },
  {
   "cell_type": "code",
   "execution_count": 156,
   "metadata": {
    "collapsed": true
   },
   "outputs": [],
   "source": [
    "y_score = logreg.predict_proba(X_test)[:,1]"
   ]
  },
  {
   "cell_type": "markdown",
   "metadata": {},
   "source": [
    "Assign each row to a bin"
   ]
  },
  {
   "cell_type": "code",
   "execution_count": 176,
   "metadata": {
    "collapsed": true
   },
   "outputs": [],
   "source": [
    "y_score_bins = np.where(y_score <= 0.1, 1, \\\n",
    "                        np.where(y_score <= 0.2, 2,\\\n",
    "                                 np.where(y_score <= 0.3, 3, \\\n",
    "                                          np.where(y_score <= 0.4, 4, \\\n",
    "                                                   np.where(y_score <= 0.5, 5, \\\n",
    "                                                            np.where(y_score <= 0.6, 6, \\\n",
    "                                                                    np.where(y_score <= 0.7, 7, \\\n",
    "                                                                              np.where(y_score <= 0.8, 8, \\\n",
    "                                                                                       np.where(y_score <= 0.9, 9, 10)))))))))"
   ]
  },
  {
   "cell_type": "markdown",
   "metadata": {},
   "source": [
    "Compute average label outcome for each bin"
   ]
  },
  {
   "cell_type": "code",
   "execution_count": 186,
   "metadata": {
    "collapsed": true
   },
   "outputs": [],
   "source": [
    "avg_outcome = []\n",
    "for b in range(1,11):\n",
    "    avg = y_test[y_score_bins == b].mean()\n",
    "    avg_outcome.append(avg)\n",
    "    "
   ]
  },
  {
   "cell_type": "code",
   "execution_count": 137,
   "metadata": {
    "collapsed": true
   },
   "outputs": [],
   "source": [
    "avg_score = [x * 0.01 for x in range(5, 100, 10)]"
   ]
  },
  {
   "cell_type": "markdown",
   "metadata": {},
   "source": [
    "Plot calibration curve: avg_score against avg_outcome. I plot a solid reference line. A better calibration model will more closely track the reference y=x line. **TODO** Why is the y=x line our reference? How well is the model calibrated? Why do you think the first point is the farthest from the reference line?"
   ]
  },
  {
   "cell_type": "code",
   "execution_count": 190,
   "metadata": {},
   "outputs": [
    {
     "data": {
      "text/plain": [
       "[<matplotlib.lines.Line2D at 0x12e37f4a8>]"
      ]
     },
     "execution_count": 190,
     "metadata": {},
     "output_type": "execute_result"
    },
    {
     "data": {
      "image/png": "[encoded data removed]",
      "text/plain": [
       "<matplotlib.figure.Figure at 0x12e37f438>"
      ]
     },
     "metadata": {},
     "output_type": "display_data"
    }
   ],
   "source": [
    "plt.scatter(avg_score, avg_outcome)\n",
    "plt.plot([0,1], [0,1])"
   ]
  },
  {
   "cell_type": "markdown",
   "metadata": {},
   "source": [
    "**TODO** Compute three calibration curves: one for each race. Is the model well-calibrated by race? It may be easiest to assess this if you plot all curves on one plot."
   ]
  },
  {
   "cell_type": "code",
   "execution_count": null,
   "metadata": {
    "collapsed": true
   },
   "outputs": [],
   "source": []
  },
  {
   "cell_type": "markdown",
   "metadata": {},
   "source": [
    "Many researchers work on developing fair classifiers. In this notebook we will train some of these methods and analyze how they perform. "
   ]
  },
  {
   "cell_type": "markdown",
   "metadata": {},
   "source": [
    "How might you try to make the classifier we built last time more fair? Would you try to change the data or maybe adjust the predictions?"
   ]
  },
  {
   "cell_type": "markdown",
   "metadata": {},
   "source": []
  },
  {
   "cell_type": "markdown",
   "metadata": {},
   "source": [
    "# Fairness Methods\n",
    " \n",
    " Methods for achieving algorithmic fairness fall into one of three categories:\n",
    " - Pre-processing\n",
    " - In-processing\n",
    " - Post-processing\n",
    " \n",
    " ## Pre-processing\n",
    " \n",
    " Pre-processing methods change the data in order to encourage the algorithm to be more fair. For instance we saw that African-Americans had a higher base rate of recidivism than Caucasians. Maybe if we changed the data so that the base rates looked equal (by for instance reweighing the training data), then the algorithm would learn a more fair classification. \n",
    " \n",
    " Pre-processing is method agnostic, but it makes no guarantee about how fair the resulting algorithm will be.\n",
    " \n",
    " ## In-processing\n",
    " \n",
    " In-processing methods change the actual learning procedure for the model. Most models are learned via an optimization; in-processing methods often constrain that optimization to a *fair* subspace.\n",
    " \n",
    " In-processing methods are not method agnostic, so they do not generalize well, but you can get fairness guarantees.\n",
    " \n",
    " ## Post-processing\n",
    " \n",
    " Post-processing methods take the predictions of any algorithm and adjust them to be more fair. For instance if our algorithm releases 50% of Caucasians but only 30% of African-Americans, then a most processing method could try to achieve demographic parity by randomly releasing 30% of African-Americans who otherwise would have been detained. How would this achieve demographic parity? "
   ]
  },
  {
   "cell_type": "markdown",
   "metadata": {},
   "source": [
    "**Your answer**:"
   ]
  },
  {
   "cell_type": "markdown",
   "metadata": {},
   "source": [
    "As usual we will import pandas and numpy. We also need to import an optimization package cvxpy. And we will import the fair methods from folders in this directory."
   ]
  },
  {
   "cell_type": "code",
   "execution_count": 4,
   "metadata": {},
   "outputs": [],
   "source": [
    "import pandas as pd\n",
    "import numpy as np\n",
    "import cvxpy as cvx\n",
    "from equalized_odds_and_calibration.eq_odds import Model"
   ]
  },
  {
   "cell_type": "code",
   "execution_count": 181,
   "metadata": {},
   "outputs": [],
   "source": [
    "train = np.loadtxt(\"train.csv\")\n",
    "test = np.loadtxt(\"test.csv\")\n",
    "X_pandas = pd.read_csv(\"X_pandas.csv\")\n",
    "feat_map = list(X_pandas.columns)[1:]\n",
    "feat_map.append(\"label\")\n",
    "feat_map.append(\"prediction\")\n",
    "X_train = train[:,:-2]\n",
    "y_train = train[:,-2]\n",
    "X_test = test[:, :-2]\n",
    "y_test = test[:,-2]"
   ]
  },
  {
   "cell_type": "markdown",
   "metadata": {},
   "source": [
    "# Reweighing to balance base rates\n",
    "\n",
    "First we will experiment with a pre-processing method that reweighs our training data to balance the base rate. In our first notebook we calculated the base rates and saw they were different. Now that we have partitioned the data into training and test sets, let's recompute the base rates on the test and train partitions. They should be able the same as before but may be a little different based on the randomization."
   ]
  },
  {
   "cell_type": "code",
   "execution_count": 183,
   "metadata": {},
   "outputs": [
    {
     "name": "stdout",
     "output_type": "stream",
     "text": [
      "The recidivism base rate for Caucasian defendants is 0.400.\n",
      "The recidivism base rate for African-American defendants is 0.518.\n"
     ]
    }
   ],
   "source": [
    "recid_rate_cauc = y_train[train[:,feat_map.index('race_Caucasian')]==1].mean()\n",
    "print(\"The recidivism base rate for Caucasian defendants is {0:.3f}.\".format(recid_rate_cauc))\n",
    "recid_rate_afr_am = y_train[train[:,feat_map.index('race_African-American')]==1].mean()\n",
    "print(\"The recidivism base rate for African-American defendants is {0:.3f}.\".format(recid_rate_afr_am))"
   ]
  },
  {
   "cell_type": "code",
   "execution_count": 184,
   "metadata": {},
   "outputs": [],
   "source": [
    "perc_afr_am = train[:, feat_map.index('race_African-American')].mean()\n",
    "perc_cauc = train[:, feat_map.index('race_Caucasian')].mean()\n",
    "recid_rate_all = y_train.mean()\n",
    "\n",
    "afr_am_pos_dummy = np.logical_and(train[:,feat_map.index('race_African-American')] ==1,\\\n",
    "                 y_train ==1)\n",
    "\n",
    "afr_am_neg_dummy = np.logical_and(train[:,feat_map.index('race_African-American')] ==1,\\\n",
    "                 y_train ==0)\n",
    "\n",
    "cauc_pos_dummy = np.logical_and(train[:,feat_map.index('race_Caucasian')] ==1,\\\n",
    "                 y_train ==1)\n",
    "\n",
    "cauc_neg_dummy = np.logical_and(train[:,feat_map.index('race_Caucasian')] ==1,\\\n",
    "                 y_train ==0)\n",
    "\n",
    "w_afr_am_pos = perc_afr_am * recid_rate_all \\\n",
    "/ np.logical_and(train[:,feat_map.index('race_African-American')] ==1,\\\n",
    "                 train[:,-2] ==1,).mean()\n",
    "\n",
    "w_afr_am_neg = perc_afr_am * (1-recid_rate_all) \\\n",
    "/ np.logical_and(train[:,feat_map.index('race_African-American')] ==1,\\\n",
    "                 train[:,-2] ==0,).mean()\n",
    "\n",
    "w_cauc_pos = perc_cauc * recid_rate_all \\\n",
    "/ np.logical_and(train[:,feat_map.index('race_Caucasian')] ==1,\\\n",
    "                 train[:,-2] ==1,).mean()\n",
    "\n",
    "w_cauc_neg = perc_cauc * (1-recid_rate_all) \\\n",
    "/ np.logical_and(train[:,feat_map.index('race_Caucasian')] ==1,\\\n",
    "                 train[:,-2] ==0,).mean()\n",
    "\n",
    "w = w_cauc_neg * np.logical_and(train[:,feat_map.index('race_Caucasian')] ==1,\\\n",
    "                 train[:,-2] ==0,) + \\\n",
    "w_cauc_pos * np.logical_and(train[:,feat_map.index('race_Caucasian')] ==1,\\\n",
    "                 train[:,-2] ==1,) + \\\n",
    "w_afr_am_neg * np.logical_and(train[:,feat_map.index('race_African-American')] ==1,\\\n",
    "                 train[:,-2] ==0,) + \\\n",
    "w_afr_am_pos * np.logical_and(train[:,feat_map.index('race_African-American')] ==1,\\\n",
    "                 train[:,-2] ==1,)"
   ]
  },
  {
   "cell_type": "markdown",
   "metadata": {},
   "source": [
    "Calculate reweighed base rates."
   ]
  },
  {
   "cell_type": "code",
   "execution_count": 185,
   "metadata": {},
   "outputs": [],
   "source": [
    "afr_am_rate_weighed = w[afr_am_pos_dummy].sum()/ \\\n",
    "w[train[:,feat_map.index('race_African-American')]==1].sum()\n",
    "\n",
    "cauc_rate_weighed = w[cauc_pos_dummy].sum()/ \\\n",
    "w[train[:,feat_map.index('race_Caucasian')]==1].sum()"
   ]
  },
  {
   "cell_type": "code",
   "execution_count": 186,
   "metadata": {},
   "outputs": [
    {
     "data": {
      "text/plain": [
       "0.4574669187145558"
      ]
     },
     "execution_count": 186,
     "metadata": {},
     "output_type": "execute_result"
    }
   ],
   "source": [
    "cauc_rate_weighed"
   ]
  },
  {
   "cell_type": "code",
   "execution_count": 187,
   "metadata": {},
   "outputs": [
    {
     "data": {
      "text/plain": [
       "0.4574669187145557"
      ]
     },
     "execution_count": 187,
     "metadata": {},
     "output_type": "execute_result"
    }
   ],
   "source": [
    "afr_am_rate_weighed"
   ]
  },
  {
   "cell_type": "markdown",
   "metadata": {},
   "source": [
    "Now use the weights to learn a new logistic regression model"
   ]
  },
  {
   "cell_type": "code",
   "execution_count": 171,
   "metadata": {},
   "outputs": [
    {
     "data": {
      "text/plain": [
       "LogisticRegression(C=100000, class_weight=None, dual=False, fit_intercept=True,\n",
       "                   intercept_scaling=1, l1_ratio=None, max_iter=10000,\n",
       "                   multi_class='warn', n_jobs=None, penalty='l2',\n",
       "                   random_state=None, solver='lbfgs', tol=0.0001, verbose=0,\n",
       "                   warm_start=False)"
      ]
     },
     "execution_count": 171,
     "metadata": {},
     "output_type": "execute_result"
    }
   ],
   "source": [
    "logreg_reweigh = LogisticRegression(C=100000, max_iter=10000, solver = \"lbfgs\")\n",
    "logreg_reweigh.fit(X_train,Y, w)"
   ]
  },
  {
   "cell_type": "code",
   "execution_count": null,
   "metadata": {
    "collapsed": true
   },
   "outputs": [],
   "source": []
  },
  {
   "cell_type": "markdown",
   "metadata": {},
   "source": [
    "Can you compute the accuracy and the race-specific false positive and false negative rates (like we did in the last notebook)? *Hint* the FPR for African-Americans is given as an example below"
   ]
  },
  {
   "cell_type": "code",
   "execution_count": 176,
   "metadata": {},
   "outputs": [
    {
     "name": "stdout",
     "output_type": "stream",
     "text": [
      "FPR for African-American after reweighing is 0.1786\n"
     ]
    }
   ],
   "source": [
    "y_pred = logreg_reweigh.predict(test[:, :-2])\n",
    "y_lab = y_pred.round()\n",
    "fpr_afr_am_reweigh = y_lab[np.logical_and(test[:, feat_map.index('race_African-American')]==1, \\\n",
    "                                          test[:, -2] == 0)].mean()\n",
    "print(\"FPR for African-American after reweighing is {0:.4f}\".format(fpr_afr_am_reweigh))"
   ]
  },
  {
   "cell_type": "markdown",
   "metadata": {},
   "source": [
    "Does reweighing help achieve equalized odds? Why or why not? "
   ]
  },
  {
   "cell_type": "markdown",
   "metadata": {},
   "source": [
    "# Post-processing for Equalized Odds"
   ]
  },
  {
   "cell_type": "markdown",
   "metadata": {},
   "source": [
    "We will explore a method developed by Moritz Hardt et al (https://arxiv.org/pdf/1610.02413.pdf) that uses post-processing techniques to achieve equalized odds. \n",
    "\n",
    "Their methods require a Model data structure that takes two inputs: 1) a matrix of the algorithm predictions and 2) a matrix of the true labels. We have to create such a Model object for each demographic group."
   ]
  },
  {
   "cell_type": "code",
   "execution_count": 11,
   "metadata": {},
   "outputs": [
    {
     "data": {
      "text/plain": [
       "['priors_count',\n",
       " 'juv_fel_count',\n",
       " 'juv_misd_count',\n",
       " 'juv_other_count',\n",
       " 'age',\n",
       " 'c_charge_degree_F',\n",
       " 'c_charge_degree_M',\n",
       " 'race_African-American',\n",
       " 'race_Caucasian',\n",
       " 'race_Hispanic',\n",
       " 'race_Other',\n",
       " 'sex_Female',\n",
       " 'sex_Male',\n",
       " 'label',\n",
       " 'prediction']"
      ]
     },
     "execution_count": 11,
     "metadata": {},
     "output_type": "execute_result"
    }
   ],
   "source": [
    "feat_map"
   ]
  },
  {
   "cell_type": "code",
   "execution_count": 20,
   "metadata": {},
   "outputs": [
    {
     "data": {
      "text/plain": [
       "(3703, 15)"
      ]
     },
     "execution_count": 20,
     "metadata": {},
     "output_type": "execute_result"
    }
   ],
   "source": [
    "train.shape"
   ]
  },
  {
   "cell_type": "code",
   "execution_count": 22,
   "metadata": {},
   "outputs": [],
   "source": [
    "afr_am_train = train[train[:,feat_map.index(\"race_African-American\")] == 1]\n",
    "cauc_train = train[train[:,feat_map.index(\"race_Caucasian\")] == 1]\n",
    "afr_am_test = test[test[:,feat_map.index(\"race_African-American\")] == 1]\n",
    "cauc_test = test[test[:,feat_map.index(\"race_Caucasian\")] == 1]"
   ]
  },
  {
   "cell_type": "code",
   "execution_count": 10,
   "metadata": {},
   "outputs": [
    {
     "data": {
      "text/plain": [
       "14"
      ]
     },
     "execution_count": 10,
     "metadata": {},
     "output_type": "execute_result"
    }
   ],
   "source": [
    "feat_map.index(\"prediction\")"
   ]
  },
  {
   "cell_type": "code",
   "execution_count": 36,
   "metadata": {
    "collapsed": true
   },
   "outputs": [],
   "source": [
    "model_afr_am_train = Model(afr_am_train[:, feat_map.index(\"prediction\")], afr_am_train[:, feat_map.index(\"label\")])\n",
    "model_cauc_train = Model(cauc_train[:, feat_map.index(\"prediction\")], cauc_train[:, feat_map.index(\"label\")])\n",
    "model_afr_am_test = Model(afr_am_test[:, feat_map.index(\"prediction\")], afr_am_test[:, feat_map.index(\"label\")])\n",
    "model_cauc_test = Model(cauc_test[:, feat_map.index(\"prediction\")], cauc_test[:, feat_map.index(\"label\")])"
   ]
  },
  {
   "cell_type": "markdown",
   "metadata": {},
   "source": [
    "To check that we have done this properly, we can print the models. This shows us the accuracy, FPR, FNR, base rate and mean prediction."
   ]
  },
  {
   "cell_type": "code",
   "execution_count": 25,
   "metadata": {},
   "outputs": [
    {
     "data": {
      "text/plain": [
       "Accuracy:\t0.685\n",
       "F.P. cost:\t0.309\n",
       "F.N. cost:\t0.321\n",
       "Base rate:\t0.518\n",
       "Avg. score:\t0.501"
      ]
     },
     "execution_count": 25,
     "metadata": {},
     "output_type": "execute_result"
    }
   ],
   "source": [
    "model_afr_am_train"
   ]
  },
  {
   "cell_type": "code",
   "execution_count": 26,
   "metadata": {},
   "outputs": [
    {
     "data": {
      "text/plain": [
       "Accuracy:\t0.665\n",
       "F.P. cost:\t0.152\n",
       "F.N. cost:\t0.610\n",
       "Base rate:\t0.400\n",
       "Avg. score:\t0.247"
      ]
     },
     "execution_count": 26,
     "metadata": {},
     "output_type": "execute_result"
    }
   ],
   "source": [
    "model_cauc_train"
   ]
  },
  {
   "cell_type": "markdown",
   "metadata": {},
   "source": [
    "Now let's call the method for post-processing. This method gives us mixing rates that tell us how to randomly resample predicted labels to equalize false positive rates and false negative rates"
   ]
  },
  {
   "cell_type": "code",
   "execution_count": 31,
   "metadata": {
    "collapsed": true
   },
   "outputs": [],
   "source": [
    "_, _, mixing_rates = Model.eq_odds(model_afr_am_train, model_cauc_train)"
   ]
  },
  {
   "cell_type": "markdown",
   "metadata": {},
   "source": [
    "Now we can correct the predictions using these mixing rates"
   ]
  },
  {
   "cell_type": "code",
   "execution_count": 32,
   "metadata": {
    "collapsed": true
   },
   "outputs": [],
   "source": [
    "model_afr_am_train_corrected, model_cauc_train_corrected = Model.eq_odds(model_afr_am_train, model_cauc_train, mixing_rates)"
   ]
  },
  {
   "cell_type": "code",
   "execution_count": 33,
   "metadata": {},
   "outputs": [
    {
     "data": {
      "text/plain": [
       "Accuracy:\t0.612\n",
       "F.P. cost:\t0.185\n",
       "F.N. cost:\t0.577\n",
       "Base rate:\t0.518\n",
       "Avg. score:\t0.308"
      ]
     },
     "execution_count": 33,
     "metadata": {},
     "output_type": "execute_result"
    }
   ],
   "source": [
    "model_afr_am_train_corrected"
   ]
  },
  {
   "cell_type": "code",
   "execution_count": 34,
   "metadata": {},
   "outputs": [
    {
     "data": {
      "text/plain": [
       "Accuracy:\t0.649\n",
       "F.P. cost:\t0.193\n",
       "F.N. cost:\t0.587\n",
       "Base rate:\t0.400\n",
       "Avg. score:\t0.281"
      ]
     },
     "execution_count": 34,
     "metadata": {},
     "output_type": "execute_result"
    }
   ],
   "source": [
    "model_cauc_train_corrected"
   ]
  },
  {
   "cell_type": "markdown",
   "metadata": {},
   "source": [
    "Did this achieve equalized odds? "
   ]
  },
  {
   "cell_type": "markdown",
   "metadata": {},
   "source": [
    "**Your answer**"
   ]
  },
  {
   "cell_type": "markdown",
   "metadata": {},
   "source": [
    "We should evaluate how the mixing performs on the test partition. Why do we need to do this? Should we get new mixing rates on the test partition or use the mixing rates learned from the train partition?"
   ]
  },
  {
   "cell_type": "markdown",
   "metadata": {},
   "source": [
    "**Your answer**"
   ]
  },
  {
   "cell_type": "code",
   "execution_count": 37,
   "metadata": {},
   "outputs": [],
   "source": [
    "model_afr_am_test_corrected, model_cauc_test_corrected = Model.eq_odds(model_afr_am_test, model_cauc_test, mixing_rates)"
   ]
  },
  {
   "cell_type": "code",
   "execution_count": 38,
   "metadata": {},
   "outputs": [
    {
     "data": {
      "text/plain": [
       "Accuracy:\t0.672\n",
       "F.P. cost:\t0.178\n",
       "F.N. cost:\t0.576\n",
       "Base rate:\t0.378\n",
       "Avg. score:\t0.271"
      ]
     },
     "execution_count": 38,
     "metadata": {},
     "output_type": "execute_result"
    }
   ],
   "source": [
    "model_cauc_test_corrected"
   ]
  },
  {
   "cell_type": "code",
   "execution_count": 39,
   "metadata": {},
   "outputs": [
    {
     "data": {
      "text/plain": [
       "Accuracy:\t0.592\n",
       "F.P. cost:\t0.207\n",
       "F.N. cost:\t0.585\n",
       "Base rate:\t0.531\n",
       "Avg. score:\t0.318"
      ]
     },
     "execution_count": 39,
     "metadata": {},
     "output_type": "execute_result"
    }
   ],
   "source": [
    "model_afr_am_test_corrected"
   ]
  },
  {
   "cell_type": "code",
   "execution_count": 40,
   "metadata": {},
   "outputs": [
    {
     "data": {
      "text/plain": [
       "Accuracy:\t0.691\n",
       "F.P. cost:\t0.136\n",
       "F.N. cost:\t0.594\n",
       "Base rate:\t0.378\n",
       "Avg. score:\t0.238"
      ]
     },
     "execution_count": 40,
     "metadata": {},
     "output_type": "execute_result"
    }
   ],
   "source": [
    "model_cauc_test"
   ]
  },
  {
   "cell_type": "code",
   "execution_count": 41,
   "metadata": {},
   "outputs": [
    {
     "data": {
      "text/plain": [
       "Accuracy:\t0.688\n",
       "F.P. cost:\t0.316\n",
       "F.N. cost:\t0.307\n",
       "Base rate:\t0.531\n",
       "Avg. score:\t0.516"
      ]
     },
     "execution_count": 41,
     "metadata": {},
     "output_type": "execute_result"
    }
   ],
   "source": [
    "model_afr_am_test"
   ]
  },
  {
   "cell_type": "markdown",
   "metadata": {},
   "source": [
    "What notion of fairness does this method achieve, if any? What is the effect of this method on the accuracy? Do you think we should use this method for our pre-trial bail application?"
   ]
  },
  {
   "cell_type": "code",
   "execution_count": null,
   "metadata": {
    "collapsed": true
   },
   "outputs": [],
   "source": []
  }
 ],
 "metadata": {
  "kernelspec": {
   "display_name": "Python 3",
   "language": "python",
   "name": "python3"
  },
  "language_info": {
   "codemirror_mode": {
    "name": "ipython",
    "version": 3
   },
   "file_extension": ".py",
   "mimetype": "text/x-python",
   "name": "python",
   "nbconvert_exporter": "python",
   "pygments_lexer": "ipython3",
   "version": "3.6.7"
  }
 },
 "nbformat": 4,
 "nbformat_minor": 2
}
