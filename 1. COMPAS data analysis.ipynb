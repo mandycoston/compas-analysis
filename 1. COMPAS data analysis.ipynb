{
 "cells": [
  {
   "cell_type": "markdown",
   "metadata": {},
   "source": [
    "People accused of a crime, also known as criminal defendants, have to wait days or even weeks for their case to come before a jury or judge who will decide if they are guilty or innocent. During this waiting period, the defendant may be released (potentially on bail) or they may be required to wait in jail. Judges make this decision based on their assessment of 1) how likely the defendent is to recommit a crime before the trial and 2) how likely the defendant is to show up for the trial. If the judge believes the defendant is likely to either recommit a crime or to flee the trial, they will deny the defendant \n",
    "\n",
    "We will be using the COMPAS dataset on **recidivism** (recommiting a crime) for criminal defendents from Broward County, Florida. COMPAS (Correctional Offender Management Profiling for Alternative Sanctions)  is a algorithmic tool used to create risk scores that judges use to determine who gets pre-trial release. [Propublica's analysis](https://www.propublica.org/article/machine-bias-risk-assessments-in-criminal-sentencing) of this dataset alleged that COMPAS is racially biased. These allegations sparked a national conversation on what it means for an algorithm to be fair. In this project, we will explore the dataset, definitions of fairness, and we will see how well various classifiers satisfy these notions of fairness."
   ]
  },
  {
   "cell_type": "markdown",
   "metadata": {},
   "source": [
    "This is jupyter notebook. It is an interactive way to run code. Many of the cells have complete code; you just need to run them by clicking on the cell and either selecting the play buttom above or using the keyboard shortcut *shift + enter*. \n",
    "\n",
    "Some cells require you to write the code. These are indicated by a **TODO** flag above the cell.\n",
    "\n",
    "In this notebook you will become familiar with the COMPAS data and you will perform some data analysis."
   ]
  },
  {
   "cell_type": "markdown",
   "metadata": {},
   "source": [
    "Import the libraries for analysis. "
   ]
  },
  {
   "cell_type": "code",
   "execution_count": 51,
   "metadata": {
    "collapsed": true
   },
   "outputs": [],
   "source": [
    "import pandas as pd\n",
    "import matplotlib.pyplot as plt\n",
    "%matplotlib inline "
   ]
  },
  {
   "cell_type": "markdown",
   "metadata": {},
   "source": [
    "Let's read in the data and look at the first few rows"
   ]
  },
  {
   "cell_type": "code",
   "execution_count": 39,
   "metadata": {},
   "outputs": [
    {
     "data": {
      "text/html": [
       "<div>\n",
       "<style>\n",
       "    .dataframe thead tr:only-child th {\n",
       "        text-align: right;\n",
       "    }\n",
       "\n",
       "    .dataframe thead th {\n",
       "        text-align: left;\n",
       "    }\n",
       "\n",
       "    .dataframe tbody tr th {\n",
       "        vertical-align: top;\n",
       "    }\n",
       "</style>\n",
       "<table border=\"1\" class=\"dataframe\">\n",
       "  <thead>\n",
       "    <tr style=\"text-align: right;\">\n",
       "      <th></th>\n",
       "      <th>name</th>\n",
       "      <th>first</th>\n",
       "      <th>last</th>\n",
       "      <th>compas_screening_date</th>\n",
       "      <th>sex</th>\n",
       "      <th>dob</th>\n",
       "      <th>age</th>\n",
       "      <th>age_cat</th>\n",
       "      <th>race</th>\n",
       "      <th>juv_fel_count</th>\n",
       "      <th>...</th>\n",
       "      <th>v_decile_score</th>\n",
       "      <th>v_score_text</th>\n",
       "      <th>v_screening_date</th>\n",
       "      <th>in_custody</th>\n",
       "      <th>out_custody</th>\n",
       "      <th>priors_count.1</th>\n",
       "      <th>start</th>\n",
       "      <th>end</th>\n",
       "      <th>event</th>\n",
       "      <th>two_year_recid</th>\n",
       "    </tr>\n",
       "    <tr>\n",
       "      <th>id</th>\n",
       "      <th></th>\n",
       "      <th></th>\n",
       "      <th></th>\n",
       "      <th></th>\n",
       "      <th></th>\n",
       "      <th></th>\n",
       "      <th></th>\n",
       "      <th></th>\n",
       "      <th></th>\n",
       "      <th></th>\n",
       "      <th></th>\n",
       "      <th></th>\n",
       "      <th></th>\n",
       "      <th></th>\n",
       "      <th></th>\n",
       "      <th></th>\n",
       "      <th></th>\n",
       "      <th></th>\n",
       "      <th></th>\n",
       "      <th></th>\n",
       "      <th></th>\n",
       "    </tr>\n",
       "  </thead>\n",
       "  <tbody>\n",
       "    <tr>\n",
       "      <th>1</th>\n",
       "      <td>miguel hernandez</td>\n",
       "      <td>miguel</td>\n",
       "      <td>hernandez</td>\n",
       "      <td>2013-08-14</td>\n",
       "      <td>Male</td>\n",
       "      <td>1947-04-18</td>\n",
       "      <td>69</td>\n",
       "      <td>Greater than 45</td>\n",
       "      <td>Other</td>\n",
       "      <td>0</td>\n",
       "      <td>...</td>\n",
       "      <td>1</td>\n",
       "      <td>Low</td>\n",
       "      <td>2013-08-14</td>\n",
       "      <td>2014-07-07</td>\n",
       "      <td>2014-07-14</td>\n",
       "      <td>0</td>\n",
       "      <td>0</td>\n",
       "      <td>327</td>\n",
       "      <td>0</td>\n",
       "      <td>0</td>\n",
       "    </tr>\n",
       "    <tr>\n",
       "      <th>3</th>\n",
       "      <td>kevon dixon</td>\n",
       "      <td>kevon</td>\n",
       "      <td>dixon</td>\n",
       "      <td>2013-01-27</td>\n",
       "      <td>Male</td>\n",
       "      <td>1982-01-22</td>\n",
       "      <td>34</td>\n",
       "      <td>25 - 45</td>\n",
       "      <td>African-American</td>\n",
       "      <td>0</td>\n",
       "      <td>...</td>\n",
       "      <td>1</td>\n",
       "      <td>Low</td>\n",
       "      <td>2013-01-27</td>\n",
       "      <td>2013-01-26</td>\n",
       "      <td>2013-02-05</td>\n",
       "      <td>0</td>\n",
       "      <td>9</td>\n",
       "      <td>159</td>\n",
       "      <td>1</td>\n",
       "      <td>1</td>\n",
       "    </tr>\n",
       "    <tr>\n",
       "      <th>4</th>\n",
       "      <td>ed philo</td>\n",
       "      <td>ed</td>\n",
       "      <td>philo</td>\n",
       "      <td>2013-04-14</td>\n",
       "      <td>Male</td>\n",
       "      <td>1991-05-14</td>\n",
       "      <td>24</td>\n",
       "      <td>Less than 25</td>\n",
       "      <td>African-American</td>\n",
       "      <td>0</td>\n",
       "      <td>...</td>\n",
       "      <td>3</td>\n",
       "      <td>Low</td>\n",
       "      <td>2013-04-14</td>\n",
       "      <td>2013-06-16</td>\n",
       "      <td>2013-06-16</td>\n",
       "      <td>4</td>\n",
       "      <td>0</td>\n",
       "      <td>63</td>\n",
       "      <td>0</td>\n",
       "      <td>1</td>\n",
       "    </tr>\n",
       "    <tr>\n",
       "      <th>5</th>\n",
       "      <td>marcu brown</td>\n",
       "      <td>marcu</td>\n",
       "      <td>brown</td>\n",
       "      <td>2013-01-13</td>\n",
       "      <td>Male</td>\n",
       "      <td>1993-01-21</td>\n",
       "      <td>23</td>\n",
       "      <td>Less than 25</td>\n",
       "      <td>African-American</td>\n",
       "      <td>0</td>\n",
       "      <td>...</td>\n",
       "      <td>6</td>\n",
       "      <td>Medium</td>\n",
       "      <td>2013-01-13</td>\n",
       "      <td>NaN</td>\n",
       "      <td>NaN</td>\n",
       "      <td>1</td>\n",
       "      <td>0</td>\n",
       "      <td>1174</td>\n",
       "      <td>0</td>\n",
       "      <td>0</td>\n",
       "    </tr>\n",
       "    <tr>\n",
       "      <th>6</th>\n",
       "      <td>bouthy pierrelouis</td>\n",
       "      <td>bouthy</td>\n",
       "      <td>pierrelouis</td>\n",
       "      <td>2013-03-26</td>\n",
       "      <td>Male</td>\n",
       "      <td>1973-01-22</td>\n",
       "      <td>43</td>\n",
       "      <td>25 - 45</td>\n",
       "      <td>Other</td>\n",
       "      <td>0</td>\n",
       "      <td>...</td>\n",
       "      <td>1</td>\n",
       "      <td>Low</td>\n",
       "      <td>2013-03-26</td>\n",
       "      <td>NaN</td>\n",
       "      <td>NaN</td>\n",
       "      <td>2</td>\n",
       "      <td>0</td>\n",
       "      <td>1102</td>\n",
       "      <td>0</td>\n",
       "      <td>0</td>\n",
       "    </tr>\n",
       "  </tbody>\n",
       "</table>\n",
       "<p>5 rows × 52 columns</p>\n",
       "</div>"
      ],
      "text/plain": [
       "                  name   first         last compas_screening_date   sex  \\\n",
       "id                                                                        \n",
       "1     miguel hernandez  miguel    hernandez            2013-08-14  Male   \n",
       "3          kevon dixon   kevon        dixon            2013-01-27  Male   \n",
       "4             ed philo      ed        philo            2013-04-14  Male   \n",
       "5          marcu brown   marcu        brown            2013-01-13  Male   \n",
       "6   bouthy pierrelouis  bouthy  pierrelouis            2013-03-26  Male   \n",
       "\n",
       "           dob  age          age_cat              race  juv_fel_count  \\\n",
       "id                                                                      \n",
       "1   1947-04-18   69  Greater than 45             Other              0   \n",
       "3   1982-01-22   34          25 - 45  African-American              0   \n",
       "4   1991-05-14   24     Less than 25  African-American              0   \n",
       "5   1993-01-21   23     Less than 25  African-American              0   \n",
       "6   1973-01-22   43          25 - 45             Other              0   \n",
       "\n",
       "        ...        v_decile_score  v_score_text  v_screening_date  in_custody  \\\n",
       "id      ...                                                                     \n",
       "1       ...                     1           Low        2013-08-14  2014-07-07   \n",
       "3       ...                     1           Low        2013-01-27  2013-01-26   \n",
       "4       ...                     3           Low        2013-04-14  2013-06-16   \n",
       "5       ...                     6        Medium        2013-01-13         NaN   \n",
       "6       ...                     1           Low        2013-03-26         NaN   \n",
       "\n",
       "    out_custody priors_count.1 start   end event two_year_recid  \n",
       "id                                                               \n",
       "1    2014-07-14              0     0   327     0              0  \n",
       "3    2013-02-05              0     9   159     1              1  \n",
       "4    2013-06-16              4     0    63     0              1  \n",
       "5           NaN              1     0  1174     0              0  \n",
       "6           NaN              2     0  1102     0              0  \n",
       "\n",
       "[5 rows x 52 columns]"
      ]
     },
     "execution_count": 39,
     "metadata": {},
     "output_type": "execute_result"
    }
   ],
   "source": [
    "dat = pd.read_csv(\"./compas-scores-two-years.csv\", index_col=0)\n",
    "dat.head()"
   ]
  },
  {
   "cell_type": "markdown",
   "metadata": {},
   "source": [
    "Each row gives the data for a particular person. Each column gives an attribute which we may use as a predictor or as an outcome in our model. How many rows and columns are there?"
   ]
  },
  {
   "cell_type": "code",
   "execution_count": 12,
   "metadata": {},
   "outputs": [
    {
     "name": "stdout",
     "output_type": "stream",
     "text": [
      "Number of rows is 7214. Number of columns is 53\n"
     ]
    }
   ],
   "source": [
    "n, p = dat.shape\n",
    "print(\"Number of rows is {}. Number of columns is {}\".format(n,p))"
   ]
  },
  {
   "cell_type": "markdown",
   "metadata": {},
   "source": [
    "What are the names of the columns? This tells us what information is contained in our dataset."
   ]
  },
  {
   "cell_type": "code",
   "execution_count": 42,
   "metadata": {},
   "outputs": [
    {
     "data": {
      "text/plain": [
       "Index(['name', 'first', 'last', 'compas_screening_date', 'sex', 'dob', 'age',\n",
       "       'age_cat', 'race', 'juv_fel_count', 'decile_score', 'juv_misd_count',\n",
       "       'juv_other_count', 'priors_count', 'days_b_screening_arrest',\n",
       "       'c_jail_in', 'c_jail_out', 'c_case_number', 'c_offense_date',\n",
       "       'c_arrest_date', 'c_days_from_compas', 'c_charge_degree',\n",
       "       'c_charge_desc', 'is_recid', 'r_case_number', 'r_charge_degree',\n",
       "       'r_days_from_arrest', 'r_offense_date', 'r_charge_desc', 'r_jail_in',\n",
       "       'r_jail_out', 'violent_recid', 'is_violent_recid', 'vr_case_number',\n",
       "       'vr_charge_degree', 'vr_offense_date', 'vr_charge_desc',\n",
       "       'type_of_assessment', 'decile_score.1', 'score_text', 'screening_date',\n",
       "       'v_type_of_assessment', 'v_decile_score', 'v_score_text',\n",
       "       'v_screening_date', 'in_custody', 'out_custody', 'priors_count.1',\n",
       "       'start', 'end', 'event', 'two_year_recid'],\n",
       "      dtype='object')"
      ]
     },
     "execution_count": 42,
     "metadata": {},
     "output_type": "execute_result"
    }
   ],
   "source": [
    "dat.columns"
   ]
  },
  {
   "cell_type": "markdown",
   "metadata": {},
   "source": [
    "<span style=\"color:red\">ADD explanations for variables or include a link to a data dictionary if one exists</span>"
   ]
  },
  {
   "cell_type": "markdown",
   "metadata": {},
   "source": [
    "The **prevalence** or **base rate** describes how often the outcome of interest occurs. Our outcome of interest is *two_year_recid* which indicates whether the defendant was rearrested for a crime within 2 years. *two_year_recid =1* if the defendent was rearrested and 0 if the defendant was not. What's the base rate for *two_year_recid*?"
   ]
  },
  {
   "cell_type": "code",
   "execution_count": 31,
   "metadata": {},
   "outputs": [
    {
     "name": "stdout",
     "output_type": "stream",
     "text": [
      "The recidivism base rate is 0.451. This means that 45.1% of defendants were rearrested\n"
     ]
    }
   ],
   "source": [
    "recid_rate = dat.two_year_recid.mean() #This is equivalent to dat['two_year_recid'].mean()\n",
    "print(\"The recidivism base rate is {0:.3f}. This means that {1:00.1f}% of defendants were rearrested\".format(recid_rate, recid_rate*100))"
   ]
  },
  {
   "cell_type": "markdown",
   "metadata": {},
   "source": [
    "There are concerns of racial bias in the criminal justice system. So let's see what the base rate is for *Caucasian* defendants. We will filter the dataset to only rows whose *race* column = 'Caucasian' and compute the mean two-year recidivism rate."
   ]
  },
  {
   "cell_type": "code",
   "execution_count": 36,
   "metadata": {},
   "outputs": [
    {
     "name": "stdout",
     "output_type": "stream",
     "text": [
      "The recidivism base rate for Caucasian defendants is 0.394.\n"
     ]
    }
   ],
   "source": [
    "recid_rate_white = dat[dat.race == 'Caucasian'].two_year_recid.mean()\n",
    "print(\"The recidivism base rate for Caucasian defendants is {0:.3f}.\".format(recid_rate_white))"
   ]
  },
  {
   "cell_type": "markdown",
   "metadata": {},
   "source": [
    "**TODO**: What's the base rate for *African-American* defendants? "
   ]
  },
  {
   "cell_type": "code",
   "execution_count": null,
   "metadata": {},
   "outputs": [],
   "source": []
  },
  {
   "cell_type": "markdown",
   "metadata": {},
   "source": [
    "Hint: You will use the same code as above but change 'Caucasian' to the value for African-American defendants. You may wonder what this value is in the dataset. Is it 'African-American' or 'African_American' or something else? To answer this, use the below code to see all unique values of the *race* column"
   ]
  },
  {
   "cell_type": "code",
   "execution_count": 38,
   "metadata": {},
   "outputs": [
    {
     "data": {
      "text/plain": [
       "array(['Other', 'African-American', 'Caucasian', 'Hispanic',\n",
       "       'Native American', 'Asian'], dtype=object)"
      ]
     },
     "execution_count": 38,
     "metadata": {},
     "output_type": "execute_result"
    }
   ],
   "source": [
    "dat.race.unique()"
   ]
  },
  {
   "cell_type": "markdown",
   "metadata": {},
   "source": [
    "Are the base rates different by race? How significant is this difference? To answer this, we can compute a 95% confidence interval. <span style=\"color:red\">ADD. Explain more why we need the 95% confidence interval, add code for computing the confidence intervals, and add outline of code to visualize the differences in base rates with 95% confidence intervals </span>"
   ]
  },
  {
   "cell_type": "markdown",
   "metadata": {},
   "source": [
    "Why might the base rates be different for different races? Can you provide two or more possible explanations?"
   ]
  },
  {
   "cell_type": "markdown",
   "metadata": {},
   "source": [
    "*your answer here*"
   ]
  },
  {
   "cell_type": "markdown",
   "metadata": {},
   "source": [
    "In subsequent notebooks we will use this dataset to train a model that will make risk scores for how likely a defendant is to recommit a crime. Do you think there may be any problems in using a dataset in which the base rates differ by race?"
   ]
  },
  {
   "cell_type": "markdown",
   "metadata": {},
   "source": [
    "*your answer here*"
   ]
  },
  {
   "cell_type": "markdown",
   "metadata": {},
   "source": [
    "Our model will use some of the columns to predict the outcome *two_year_recid*. The columns that we use to predict the outcome are called *features*. We should not include all of the columns as features. Why might we exclude some columns? Can you name at least three columns that we should include as features and at least two columns that we should not include as features? "
   ]
  },
  {
   "cell_type": "markdown",
   "metadata": {},
   "source": [
    "*your answer here*"
   ]
  },
  {
   "cell_type": "markdown",
   "metadata": {},
   "source": [
    "*priors_count* is an example of a column that we should include as a feature. This tells us how many times the defendant has been previously arrested. Since the past is a good indication of the future, this is a useful feature for predicting how likely they are to recommit a crime. \n",
    "\n",
    "Let's try to understand this feature better."
   ]
  },
  {
   "cell_type": "code",
   "execution_count": 43,
   "metadata": {},
   "outputs": [
    {
     "data": {
      "text/plain": [
       "count    7214.000000\n",
       "mean        3.472415\n",
       "std         4.882538\n",
       "min         0.000000\n",
       "25%         0.000000\n",
       "50%         2.000000\n",
       "75%         5.000000\n",
       "max        38.000000\n",
       "Name: priors_count, dtype: float64"
      ]
     },
     "execution_count": 43,
     "metadata": {},
     "output_type": "execute_result"
    }
   ],
   "source": [
    "dat.priors_count.describe()"
   ]
  },
  {
   "cell_type": "markdown",
   "metadata": {},
   "source": [
    "<span style=\"color:red\">ADD explanation of each of these ^ and code to visualize a scatter plot</span>"
   ]
  },
  {
   "cell_type": "markdown",
   "metadata": {},
   "source": [
    "Does *priors_count* differ by race?\n",
    "\n",
    "**TODO** compute the mean *priors_count* for African-American and for Caucasian. **Extra** compute the median *priors_count* by race. What do the means (and medians if you computed them) tell us about prior criminal history by race?"
   ]
  },
  {
   "cell_type": "markdown",
   "metadata": {},
   "source": [
    "Age is also highly predictive of crime. Younger people are more likely to commit crimes. Let's look at *age_cat* which discretizes age into three categories. How common is each?"
   ]
  },
  {
   "cell_type": "code",
   "execution_count": 62,
   "metadata": {},
   "outputs": [
    {
     "data": {
      "text/plain": [
       "<matplotlib.axes._subplots.AxesSubplot at 0x1279707f0>"
      ]
     },
     "execution_count": 62,
     "metadata": {},
     "output_type": "execute_result"
    },
    {
     "data": {
      "image/png": "[encoded data removed]",
      "text/plain": [
       "<matplotlib.figure.Figure at 0x1277fdb70>"
      ]
     },
     "metadata": {},
     "output_type": "display_data"
    }
   ],
   "source": [
    "dat.age_cat.value_counts().plot.bar()"
   ]
  },
  {
   "cell_type": "markdown",
   "metadata": {},
   "source": [
    "Do the age distributions differ by race?"
   ]
  },
  {
   "cell_type": "code",
   "execution_count": 79,
   "metadata": {},
   "outputs": [
    {
     "data": {
      "text/plain": [
       "<matplotlib.axes._subplots.AxesSubplot at 0x12a6c2f98>"
      ]
     },
     "execution_count": 79,
     "metadata": {},
     "output_type": "execute_result"
    },
    {
     "data": {
      "image/png": "[encoded data removed]",
      "text/plain": [
       "<matplotlib.figure.Figure at 0x12a6d1c88>"
      ]
     },
     "metadata": {},
     "output_type": "display_data"
    }
   ],
   "source": [
    "dat[dat.race=='African-American'].age_cat.value_counts().sort_index().plot.bar()"
   ]
  },
  {
   "cell_type": "code",
   "execution_count": 80,
   "metadata": {},
   "outputs": [
    {
     "data": {
      "text/plain": [
       "<matplotlib.axes._subplots.AxesSubplot at 0x12a708518>"
      ]
     },
     "execution_count": 80,
     "metadata": {},
     "output_type": "execute_result"
    },
    {
     "data": {
      "image/png": "[encoded data removed]",
      "text/plain": [
       "<matplotlib.figure.Figure at 0x12a75b748>"
      ]
     },
     "metadata": {},
     "output_type": "display_data"
    }
   ],
   "source": [
    "dat[dat.race=='Caucasian'].age_cat.value_counts().sort_index().plot.bar()"
   ]
  },
  {
   "cell_type": "code",
   "execution_count": null,
   "metadata": {
    "collapsed": true
   },
   "outputs": [],
   "source": [
    "# are the age distributions different by race?"
   ]
  },
  {
   "cell_type": "code",
   "execution_count": 69,
   "metadata": {},
   "outputs": [
    {
     "data": {
      "text/html": [
       "<div>\n",
       "<style>\n",
       "    .dataframe thead tr:only-child th {\n",
       "        text-align: right;\n",
       "    }\n",
       "\n",
       "    .dataframe thead th {\n",
       "        text-align: left;\n",
       "    }\n",
       "\n",
       "    .dataframe tbody tr th {\n",
       "        vertical-align: top;\n",
       "    }\n",
       "</style>\n",
       "<table border=\"1\" class=\"dataframe\">\n",
       "  <thead>\n",
       "    <tr style=\"text-align: right;\">\n",
       "      <th>age_cat</th>\n",
       "      <th>25 - 45</th>\n",
       "      <th>Greater than 45</th>\n",
       "      <th>Less than 25</th>\n",
       "    </tr>\n",
       "    <tr>\n",
       "      <th>race</th>\n",
       "      <th></th>\n",
       "      <th></th>\n",
       "      <th></th>\n",
       "    </tr>\n",
       "  </thead>\n",
       "  <tbody>\n",
       "    <tr>\n",
       "      <th>African-American</th>\n",
       "      <td>2194</td>\n",
       "      <td>582</td>\n",
       "      <td>920</td>\n",
       "    </tr>\n",
       "    <tr>\n",
       "      <th>Asian</th>\n",
       "      <td>14</td>\n",
       "      <td>11</td>\n",
       "      <td>7</td>\n",
       "    </tr>\n",
       "    <tr>\n",
       "      <th>Caucasian</th>\n",
       "      <td>1312</td>\n",
       "      <td>752</td>\n",
       "      <td>390</td>\n",
       "    </tr>\n",
       "    <tr>\n",
       "      <th>Hispanic</th>\n",
       "      <td>367</td>\n",
       "      <td>143</td>\n",
       "      <td>127</td>\n",
       "    </tr>\n",
       "    <tr>\n",
       "      <th>Native American</th>\n",
       "      <td>12</td>\n",
       "      <td>3</td>\n",
       "      <td>3</td>\n",
       "    </tr>\n",
       "    <tr>\n",
       "      <th>Other</th>\n",
       "      <td>210</td>\n",
       "      <td>85</td>\n",
       "      <td>82</td>\n",
       "    </tr>\n",
       "  </tbody>\n",
       "</table>\n",
       "</div>"
      ],
      "text/plain": [
       "age_cat           25 - 45  Greater than 45  Less than 25\n",
       "race                                                    \n",
       "African-American     2194              582           920\n",
       "Asian                  14               11             7\n",
       "Caucasian            1312              752           390\n",
       "Hispanic              367              143           127\n",
       "Native American        12                3             3\n",
       "Other                 210               85            82"
      ]
     },
     "execution_count": 69,
     "metadata": {},
     "output_type": "execute_result"
    }
   ],
   "source": [
    "dat.groupby(['race', 'age_cat']).size().unstack()"
   ]
  },
  {
   "cell_type": "code",
   "execution_count": 76,
   "metadata": {},
   "outputs": [
    {
     "data": {
      "text/html": [
       "<div>\n",
       "<style>\n",
       "    .dataframe thead tr:only-child th {\n",
       "        text-align: right;\n",
       "    }\n",
       "\n",
       "    .dataframe thead th {\n",
       "        text-align: left;\n",
       "    }\n",
       "\n",
       "    .dataframe tbody tr th {\n",
       "        vertical-align: top;\n",
       "    }\n",
       "</style>\n",
       "<table border=\"1\" class=\"dataframe\">\n",
       "  <thead>\n",
       "    <tr style=\"text-align: right;\">\n",
       "      <th></th>\n",
       "      <th>age</th>\n",
       "      <th>juv_fel_count</th>\n",
       "      <th>decile_score</th>\n",
       "      <th>juv_misd_count</th>\n",
       "      <th>juv_other_count</th>\n",
       "      <th>priors_count</th>\n",
       "      <th>days_b_screening_arrest</th>\n",
       "      <th>c_days_from_compas</th>\n",
       "      <th>is_recid</th>\n",
       "      <th>r_days_from_arrest</th>\n",
       "      <th>violent_recid</th>\n",
       "      <th>is_violent_recid</th>\n",
       "      <th>decile_score.1</th>\n",
       "      <th>v_decile_score</th>\n",
       "      <th>priors_count.1</th>\n",
       "      <th>start</th>\n",
       "      <th>end</th>\n",
       "      <th>event</th>\n",
       "      <th>two_year_recid</th>\n",
       "    </tr>\n",
       "    <tr>\n",
       "      <th>race</th>\n",
       "      <th></th>\n",
       "      <th></th>\n",
       "      <th></th>\n",
       "      <th></th>\n",
       "      <th></th>\n",
       "      <th></th>\n",
       "      <th></th>\n",
       "      <th></th>\n",
       "      <th></th>\n",
       "      <th></th>\n",
       "      <th></th>\n",
       "      <th></th>\n",
       "      <th></th>\n",
       "      <th></th>\n",
       "      <th></th>\n",
       "      <th></th>\n",
       "      <th></th>\n",
       "      <th></th>\n",
       "      <th></th>\n",
       "    </tr>\n",
       "  </thead>\n",
       "  <tbody>\n",
       "    <tr>\n",
       "      <th>African-American</th>\n",
       "      <td>32.740801</td>\n",
       "      <td>0.100108</td>\n",
       "      <td>5.368777</td>\n",
       "      <td>0.136364</td>\n",
       "      <td>0.135011</td>\n",
       "      <td>4.438853</td>\n",
       "      <td>5.190557</td>\n",
       "      <td>72.087605</td>\n",
       "      <td>0.550866</td>\n",
       "      <td>19.529933</td>\n",
       "      <td>NaN</td>\n",
       "      <td>0.133929</td>\n",
       "      <td>5.368777</td>\n",
       "      <td>4.391234</td>\n",
       "      <td>4.438853</td>\n",
       "      <td>13.959957</td>\n",
       "      <td>504.777056</td>\n",
       "      <td>0.435065</td>\n",
       "      <td>0.514340</td>\n",
       "    </tr>\n",
       "    <tr>\n",
       "      <th>Asian</th>\n",
       "      <td>37.781250</td>\n",
       "      <td>0.000000</td>\n",
       "      <td>2.937500</td>\n",
       "      <td>0.031250</td>\n",
       "      <td>0.031250</td>\n",
       "      <td>1.437500</td>\n",
       "      <td>-4.843750</td>\n",
       "      <td>1.812500</td>\n",
       "      <td>0.343750</td>\n",
       "      <td>0.166667</td>\n",
       "      <td>NaN</td>\n",
       "      <td>0.125000</td>\n",
       "      <td>2.937500</td>\n",
       "      <td>2.437500</td>\n",
       "      <td>1.437500</td>\n",
       "      <td>21.781250</td>\n",
       "      <td>747.343750</td>\n",
       "      <td>0.250000</td>\n",
       "      <td>0.281250</td>\n",
       "    </tr>\n",
       "    <tr>\n",
       "      <th>Caucasian</th>\n",
       "      <td>37.726569</td>\n",
       "      <td>0.026487</td>\n",
       "      <td>3.735126</td>\n",
       "      <td>0.041972</td>\n",
       "      <td>0.092095</td>\n",
       "      <td>2.586797</td>\n",
       "      <td>-0.120690</td>\n",
       "      <td>36.843610</td>\n",
       "      <td>0.417685</td>\n",
       "      <td>22.033803</td>\n",
       "      <td>NaN</td>\n",
       "      <td>0.090465</td>\n",
       "      <td>3.735126</td>\n",
       "      <td>2.948655</td>\n",
       "      <td>2.586797</td>\n",
       "      <td>8.609209</td>\n",
       "      <td>589.662999</td>\n",
       "      <td>0.332518</td>\n",
       "      <td>0.393643</td>\n",
       "    </tr>\n",
       "    <tr>\n",
       "      <th>Hispanic</th>\n",
       "      <td>35.455259</td>\n",
       "      <td>0.032967</td>\n",
       "      <td>3.463108</td>\n",
       "      <td>0.039246</td>\n",
       "      <td>0.067504</td>\n",
       "      <td>2.252747</td>\n",
       "      <td>2.429795</td>\n",
       "      <td>72.448494</td>\n",
       "      <td>0.384615</td>\n",
       "      <td>17.676056</td>\n",
       "      <td>NaN</td>\n",
       "      <td>0.087912</td>\n",
       "      <td>3.463108</td>\n",
       "      <td>3.034537</td>\n",
       "      <td>2.252747</td>\n",
       "      <td>9.365777</td>\n",
       "      <td>631.894819</td>\n",
       "      <td>0.323391</td>\n",
       "      <td>0.364207</td>\n",
       "    </tr>\n",
       "    <tr>\n",
       "      <th>Native American</th>\n",
       "      <td>32.888889</td>\n",
       "      <td>0.277778</td>\n",
       "      <td>6.166667</td>\n",
       "      <td>0.055556</td>\n",
       "      <td>0.222222</td>\n",
       "      <td>6.000000</td>\n",
       "      <td>-10.187500</td>\n",
       "      <td>54.470588</td>\n",
       "      <td>0.611111</td>\n",
       "      <td>76.666667</td>\n",
       "      <td>NaN</td>\n",
       "      <td>0.222222</td>\n",
       "      <td>6.166667</td>\n",
       "      <td>4.611111</td>\n",
       "      <td>6.000000</td>\n",
       "      <td>3.111111</td>\n",
       "      <td>485.111111</td>\n",
       "      <td>0.333333</td>\n",
       "      <td>0.555556</td>\n",
       "    </tr>\n",
       "    <tr>\n",
       "      <th>Other</th>\n",
       "      <td>35.013263</td>\n",
       "      <td>0.063660</td>\n",
       "      <td>2.949602</td>\n",
       "      <td>0.058355</td>\n",
       "      <td>0.042440</td>\n",
       "      <td>1.875332</td>\n",
       "      <td>10.147222</td>\n",
       "      <td>33.212766</td>\n",
       "      <td>0.379310</td>\n",
       "      <td>19.242424</td>\n",
       "      <td>NaN</td>\n",
       "      <td>0.100796</td>\n",
       "      <td>2.949602</td>\n",
       "      <td>2.846154</td>\n",
       "      <td>1.875332</td>\n",
       "      <td>8.665782</td>\n",
       "      <td>648.909814</td>\n",
       "      <td>0.312997</td>\n",
       "      <td>0.352785</td>\n",
       "    </tr>\n",
       "  </tbody>\n",
       "</table>\n",
       "</div>"
      ],
      "text/plain": [
       "                        age  juv_fel_count  decile_score  juv_misd_count  \\\n",
       "race                                                                       \n",
       "African-American  32.740801       0.100108      5.368777        0.136364   \n",
       "Asian             37.781250       0.000000      2.937500        0.031250   \n",
       "Caucasian         37.726569       0.026487      3.735126        0.041972   \n",
       "Hispanic          35.455259       0.032967      3.463108        0.039246   \n",
       "Native American   32.888889       0.277778      6.166667        0.055556   \n",
       "Other             35.013263       0.063660      2.949602        0.058355   \n",
       "\n",
       "                  juv_other_count  priors_count  days_b_screening_arrest  \\\n",
       "race                                                                       \n",
       "African-American         0.135011      4.438853                 5.190557   \n",
       "Asian                    0.031250      1.437500                -4.843750   \n",
       "Caucasian                0.092095      2.586797                -0.120690   \n",
       "Hispanic                 0.067504      2.252747                 2.429795   \n",
       "Native American          0.222222      6.000000               -10.187500   \n",
       "Other                    0.042440      1.875332                10.147222   \n",
       "\n",
       "                  c_days_from_compas  is_recid  r_days_from_arrest  \\\n",
       "race                                                                 \n",
       "African-American           72.087605  0.550866           19.529933   \n",
       "Asian                       1.812500  0.343750            0.166667   \n",
       "Caucasian                  36.843610  0.417685           22.033803   \n",
       "Hispanic                   72.448494  0.384615           17.676056   \n",
       "Native American            54.470588  0.611111           76.666667   \n",
       "Other                      33.212766  0.379310           19.242424   \n",
       "\n",
       "                  violent_recid  is_violent_recid  decile_score.1  \\\n",
       "race                                                                \n",
       "African-American            NaN          0.133929        5.368777   \n",
       "Asian                       NaN          0.125000        2.937500   \n",
       "Caucasian                   NaN          0.090465        3.735126   \n",
       "Hispanic                    NaN          0.087912        3.463108   \n",
       "Native American             NaN          0.222222        6.166667   \n",
       "Other                       NaN          0.100796        2.949602   \n",
       "\n",
       "                  v_decile_score  priors_count.1      start         end  \\\n",
       "race                                                                      \n",
       "African-American        4.391234        4.438853  13.959957  504.777056   \n",
       "Asian                   2.437500        1.437500  21.781250  747.343750   \n",
       "Caucasian               2.948655        2.586797   8.609209  589.662999   \n",
       "Hispanic                3.034537        2.252747   9.365777  631.894819   \n",
       "Native American         4.611111        6.000000   3.111111  485.111111   \n",
       "Other                   2.846154        1.875332   8.665782  648.909814   \n",
       "\n",
       "                     event  two_year_recid  \n",
       "race                                        \n",
       "African-American  0.435065        0.514340  \n",
       "Asian             0.250000        0.281250  \n",
       "Caucasian         0.332518        0.393643  \n",
       "Hispanic          0.323391        0.364207  \n",
       "Native American   0.333333        0.555556  \n",
       "Other             0.312997        0.352785  "
      ]
     },
     "execution_count": 76,
     "metadata": {},
     "output_type": "execute_result"
    }
   ],
   "source": [
    "dat.groupby('race').mean()"
   ]
  },
  {
   "cell_type": "code",
   "execution_count": null,
   "metadata": {},
   "outputs": [],
   "source": []
  },
  {
   "cell_type": "code",
   "execution_count": null,
   "metadata": {
    "collapsed": true
   },
   "outputs": [],
   "source": []
  }
 ],
 "metadata": {
  "kernelspec": {
   "display_name": "Python 3",
   "language": "python",
   "name": "python3"
  },
  "language_info": {
   "codemirror_mode": {
    "name": "ipython",
    "version": 3
   },
   "file_extension": ".py",
   "mimetype": "text/x-python",
   "name": "python",
   "nbconvert_exporter": "python",
   "pygments_lexer": "ipython3",
   "version": "3.6.1"
  }
 },
 "nbformat": 4,
 "nbformat_minor": 2
}
